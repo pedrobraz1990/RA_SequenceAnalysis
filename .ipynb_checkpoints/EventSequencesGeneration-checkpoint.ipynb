{
 "cells": [
  {
   "cell_type": "markdown",
   "metadata": {},
   "source": [
    "# Never mind this first bit, it is setup only"
   ]
  },
  {
   "cell_type": "code",
   "execution_count": 1,
   "metadata": {
    "collapsed": false
   },
   "outputs": [
    {
     "name": "stdout",
     "output_type": "stream",
     "text": [
      "\n",
      "The downloaded binary packages are in\n",
      "\t/var/folders/s0/cpch1n253877slkrcpdzqgph0000gn/T//Rtmpwh4EMm/downloaded_packages\n"
     ]
    },
    {
     "name": "stderr",
     "output_type": "stream",
     "text": [
      "\n",
      "TraMineR stable version 1.8-12 (Built: 2016-06-25)\n",
      "Website: http://traminer.unige.ch\n",
      "Please type 'citation(\"TraMineR\")' for citation information.\n",
      "\n"
     ]
    }
   ],
   "source": [
    "install.packages(\"TraMineR\", dependencies=TRUE, repos = \"http://cran.us.r-project.org\")\n",
    "\n",
    "library(TraMineR)\n",
    "library(RColorBrewer)\n",
    "library(cluster)\n",
    "rawData = read.csv(\"Pedro_Review_22062015.csv\",sep=\";\") \n",
    "companies = rawData[rawData[,5]==\"Companies\",]\n",
    "titles = rawData[rawData[,5]==\"Titles\",]\n",
    "membership = rawData[rawData[,5]==\"Board Memberships\",]\n"
   ]
  },
  {
   "cell_type": "code",
   "execution_count": 2,
   "metadata": {
    "collapsed": false
   },
   "outputs": [],
   "source": [
    "getSequence <- function(raw){\n",
    "  return(raw[,-seq(1:5)])\n",
    "}\n",
    "\n",
    "\n",
    "\n",
    "trim <- function (x) gsub(\"^\\\\s+|\\\\s+$\", \"\", x)\n",
    "    \n",
    "    \n",
    "    \n",
    "makeSequencePlots <- function(seq){\n",
    "  seqIplot(seq,sortv=\"from.start\",withlegend=TRUE,title=\"Companies - All sequences - Sort by start\")\n",
    "  \n",
    "  seqIplot(seq,sortv=\"from.end\",withlegend=TRUE,title=\"Companies - All sequences - Sort by end\")\n",
    "  \n",
    "  seqfplot(seq, withlegend = TRUE, border = NA, title=\"10 Most Frequent Sequences\")\n",
    "  \n",
    "  seqdplot(seq, withlegend = TRUE, border = NA, title=\"States Distribution Over Time\")\n",
    "  \n",
    "  seqmtplot(seq, withlegend = TRUE, title=\"Mean Time spent in each State\")\n",
    "  return(TRUE)\n",
    "}    "
   ]
  },
  {
   "cell_type": "code",
   "execution_count": 5,
   "metadata": {
    "collapsed": true
   },
   "outputs": [],
   "source": [
    "\n",
    "companiesSequence <- getSequence(companies)\n",
    "\n",
    "companiesSequence[companiesSequence == \"b\"] <- \"B\"\n",
    "companiesSequence[companiesSequence == \"c\"] <- \"C\"\n",
    "companiesSequence[companiesSequence == \"Partner\"] <- \"Z\"\n",
    "companiesSequence[companiesSequence == \"Consultant\"] <- \"Z\"\n",
    "companiesSequence[companiesSequence == \"President\"] <- \"Z\"\n",
    "companiesSequence[companiesSequence == \"President, COO,CEO\"] <- \"Z\"\n",
    "companiesSequence[companiesSequence == \"Senior Advisor\"] <- \"Z\"\n",
    "companiesSequence[companiesSequence == \"sr. v.p., corp. Strategy\"] <- \"Z\"\n",
    "companiesSequence[companiesSequence == \"President, COO\"] <- \"Z\"\n",
    "companiesSequence[companiesSequence == \"CHECK\"] <- \"Z\"\n",
    "\n",
    "for (row in seq(1:dim(companiesSequence)[1])){\n",
    "  for (col in seq(1:dim(companiesSequence)[2])){\n",
    "    companiesSequence[row,col] <- trim(companiesSequence[row,col])\n",
    "  }\n",
    "}"
   ]
  },
  {
   "cell_type": "markdown",
   "metadata": {},
   "source": [
    "# Event Sequence Creation"
   ]
  },
  {
   "cell_type": "code",
   "execution_count": 6,
   "metadata": {
    "collapsed": false
   },
   "outputs": [
    {
     "data": {
      "text/html": [
       "<ol class=list-inline>\n",
       "\t<li>231</li>\n",
       "\t<li>71</li>\n",
       "</ol>\n"
      ],
      "text/latex": [
       "\\begin{enumerate*}\n",
       "\\item 231\n",
       "\\item 71\n",
       "\\end{enumerate*}\n"
      ],
      "text/markdown": [
       "1. 231\n",
       "2. 71\n",
       "\n",
       "\n"
      ],
      "text/plain": [
       "[1] 231  71"
      ]
     },
     "metadata": {},
     "output_type": "display_data"
    }
   ],
   "source": [
    "dim(companiesSequence)"
   ]
  },
  {
   "cell_type": "code",
   "execution_count": 7,
   "metadata": {
    "collapsed": false,
    "scrolled": true
   },
   "outputs": [
    {
     "name": "stderr",
     "output_type": "stream",
     "text": [
      " [>] found missing values ('Z') in sequence data\n",
      " [>] preparing 231 sequences\n",
      " [>] coding void elements with '%' and missing values with '*'\n",
      " [!] sequence with index: 24,44,178,229,230 contains only missing values.\n",
      "     This may produce inconsistent results.\n",
      " [>] 3 distinct states appear in the data: \n",
      "     1 = A\n",
      "     2 = B\n",
      "     3 = C\n",
      " [>] state coding:\n",
      "       [alphabet]  [label]  [long label] \n",
      "     1  A           A        A\n",
      "     2  B           B        B\n",
      "     3  C           C        C\n",
      " [>] 231 sequences in the data set\n",
      " [>] min/max sequence length: 50/71\n"
     ]
    }
   ],
   "source": [
    "companiesSequence.seq <- seqdef(companiesSequence,NULL,missing=\"Z\")"
   ]
  },
  {
   "cell_type": "code",
   "execution_count": 12,
   "metadata": {
    "collapsed": false
   },
   "outputs": [
    {
     "data": {
      "text/html": [
       "<table>\n",
       "<thead><tr><th></th><th scope=col>X1951</th><th scope=col>X1952</th><th scope=col>X1953</th><th scope=col>X1954</th><th scope=col>X1955</th><th scope=col>X1956</th><th scope=col>X1957</th><th scope=col>X1958</th><th scope=col>X1959</th><th scope=col>X1960</th><th scope=col>⋯</th><th scope=col>X2012</th><th scope=col>X2013</th><th scope=col>X2014</th><th scope=col>X2015</th><th scope=col>X2016</th><th scope=col>X2017</th><th scope=col>X2018</th><th scope=col>X2019</th><th scope=col>X2020</th><th scope=col>X2021</th></tr></thead>\n",
       "<tbody>\n",
       "\t<tr><th scope=row>1</th><td>*</td><td>*</td><td>*</td><td>*</td><td>*</td><td>*</td><td>*</td><td>*</td><td>*</td><td>*</td><td>⋯</td><td>A</td><td>%</td><td>%</td><td>%</td><td>%</td><td>%</td><td>%</td><td>%</td><td>%</td><td>%</td></tr>\n",
       "\t<tr><th scope=row>7</th><td>*</td><td>*</td><td>*</td><td>*</td><td>*</td><td>*</td><td>*</td><td>*</td><td>*</td><td>*</td><td>⋯</td><td>A</td><td>%</td><td>%</td><td>%</td><td>%</td><td>%</td><td>%</td><td>%</td><td>%</td><td>%</td></tr>\n",
       "\t<tr><th scope=row>13</th><td>*</td><td>*</td><td>*</td><td>*</td><td>*</td><td>*</td><td>*</td><td>*</td><td>*</td><td>*</td><td>⋯</td><td>A</td><td>%</td><td>%</td><td>%</td><td>%</td><td>%</td><td>%</td><td>%</td><td>%</td><td>%</td></tr>\n",
       "\t<tr><th scope=row>19</th><td>*</td><td>*</td><td>*</td><td>*</td><td>*</td><td>*</td><td>*</td><td>*</td><td>*</td><td>*</td><td>⋯</td><td>%</td><td>%</td><td>%</td><td>%</td><td>%</td><td>%</td><td>%</td><td>%</td><td>%</td><td>%</td></tr>\n",
       "\t<tr><th scope=row>25</th><td>*</td><td>*</td><td>*</td><td>*</td><td>*</td><td>*</td><td>*</td><td>*</td><td>*</td><td>*</td><td>⋯</td><td>%</td><td>%</td><td>%</td><td>%</td><td>%</td><td>%</td><td>%</td><td>%</td><td>%</td><td>%</td></tr>\n",
       "\t<tr><th scope=row>31</th><td>*</td><td>*</td><td>*</td><td>*</td><td>*</td><td>*</td><td>*</td><td>*</td><td>*</td><td>*</td><td>⋯</td><td>C</td><td>C</td><td>%</td><td>%</td><td>%</td><td>%</td><td>%</td><td>%</td><td>%</td><td>%</td></tr>\n",
       "</tbody>\n",
       "</table>\n"
      ],
      "text/latex": [
       "\\begin{tabular}{r|lllllllllllllllllllllllllllllllllllllllllllllllllllllllllllllllllllllll}\n",
       "  & X1951 & X1952 & X1953 & X1954 & X1955 & X1956 & X1957 & X1958 & X1959 & X1960 & ⋯ & X2012 & X2013 & X2014 & X2015 & X2016 & X2017 & X2018 & X2019 & X2020 & X2021\\\\\n",
       "\\hline\n",
       "\t1 & *   & *   & *   & *   & *   & *   & *   & *   & *   & *   & ⋯   & A   & \\% & \\% & \\% & \\% & \\% & \\% & \\% & \\% & \\%\\\\\n",
       "\t7 & *   & *   & *   & *   & *   & *   & *   & *   & *   & *   & ⋯   & A   & \\% & \\% & \\% & \\% & \\% & \\% & \\% & \\% & \\%\\\\\n",
       "\t13 & *   & *   & *   & *   & *   & *   & *   & *   & *   & *   & ⋯   & A   & \\% & \\% & \\% & \\% & \\% & \\% & \\% & \\% & \\%\\\\\n",
       "\t19 & *   & *   & *   & *   & *   & *   & *   & *   & *   & *   & ⋯   & \\% & \\% & \\% & \\% & \\% & \\% & \\% & \\% & \\% & \\%\\\\\n",
       "\t25 & *   & *   & *   & *   & *   & *   & *   & *   & *   & *   & ⋯   & \\% & \\% & \\% & \\% & \\% & \\% & \\% & \\% & \\% & \\%\\\\\n",
       "\t31 & *   & *   & *   & *   & *   & *   & *   & *   & *   & *   & ⋯   & C   & C   & \\% & \\% & \\% & \\% & \\% & \\% & \\% & \\%\\\\\n",
       "\\end{tabular}\n"
      ],
      "text/plain": [
       "   X1951 X1952 X1953 X1954 X1955 X1956 X1957 X1958 X1959 X1960 ⋯ X2012 X2013\n",
       "1  *     *     *     *     *     *     *     *     *     *     ⋯ A     %    \n",
       "7  *     *     *     *     *     *     *     *     *     *     ⋯ A     %    \n",
       "13 *     *     *     *     *     *     *     *     *     *     ⋯ A     %    \n",
       "19 *     *     *     *     *     *     *     *     *     *     ⋯ %     %    \n",
       "25 *     *     *     *     *     *     *     *     *     *     ⋯ %     %    \n",
       "31 *     *     *     *     *     *     *     *     *     *     ⋯ C     C    \n",
       "   X2014 X2015 X2016 X2017 X2018 X2019 X2020 X2021\n",
       "1  %     %     %     %     %     %     %     %    \n",
       "7  %     %     %     %     %     %     %     %    \n",
       "13 %     %     %     %     %     %     %     %    \n",
       "19 %     %     %     %     %     %     %     %    \n",
       "25 %     %     %     %     %     %     %     %    \n",
       "31 %     %     %     %     %     %     %     %    "
      ]
     },
     "metadata": {},
     "output_type": "display_data"
    }
   ],
   "source": [
    "head(companiesSequence.seq)"
   ]
  },
  {
   "cell_type": "code",
   "execution_count": 8,
   "metadata": {
    "collapsed": false
   },
   "outputs": [
    {
     "data": {
      "text/html": [
       "<ol class=list-inline>\n",
       "\t<li>231</li>\n",
       "\t<li>71</li>\n",
       "</ol>\n"
      ],
      "text/latex": [
       "\\begin{enumerate*}\n",
       "\\item 231\n",
       "\\item 71\n",
       "\\end{enumerate*}\n"
      ],
      "text/markdown": [
       "1. 231\n",
       "2. 71\n",
       "\n",
       "\n"
      ],
      "text/plain": [
       "[1] 231  71"
      ]
     },
     "metadata": {},
     "output_type": "display_data"
    }
   ],
   "source": [
    "dim(companiesSequence.seq)"
   ]
  },
  {
   "cell_type": "code",
   "execution_count": 14,
   "metadata": {
    "collapsed": false
   },
   "outputs": [
    {
     "name": "stderr",
     "output_type": "stream",
     "text": [
      " [>] input is a sequence object, converting from STS format\n",
      " [>] converting special codes for missing states to NA's\n",
      " [>] converting 231 sequences to TSE format ...\n",
      " [>] STS sequences converted to 236 TSE seq./rows\n"
     ]
    },
    {
     "data": {
      "text/html": [
       "<table>\n",
       "<thead><tr><th scope=col>id</th><th scope=col>time</th><th scope=col>event</th></tr></thead>\n",
       "<tbody>\n",
       "\t<tr><td>2 </td><td>32</td><td>B </td></tr>\n",
       "\t<tr><td>2 </td><td>44</td><td>A </td></tr>\n",
       "\t<tr><td>3 </td><td>42</td><td>A </td></tr>\n",
       "\t<tr><td>5 </td><td>49</td><td>A </td></tr>\n",
       "\t<tr><td>6 </td><td>50</td><td>A </td></tr>\n",
       "\t<tr><td>6 </td><td>54</td><td>C </td></tr>\n",
       "</tbody>\n",
       "</table>\n"
      ],
      "text/latex": [
       "\\begin{tabular}{r|lll}\n",
       " id & time & event\\\\\n",
       "\\hline\n",
       "\t 2  & 32 & B \\\\\n",
       "\t 2  & 44 & A \\\\\n",
       "\t 3  & 42 & A \\\\\n",
       "\t 5  & 49 & A \\\\\n",
       "\t 6  & 50 & A \\\\\n",
       "\t 6  & 54 & C \\\\\n",
       "\\end{tabular}\n"
      ],
      "text/plain": [
       "  id time event\n",
       "1 2  32   B    \n",
       "2 2  44   A    \n",
       "3 3  42   A    \n",
       "4 5  49   A    \n",
       "5 6  50   A    \n",
       "6 6  54   C    "
      ]
     },
     "metadata": {},
     "output_type": "display_data"
    }
   ],
   "source": [
    "x <-seqformat(companiesSequence.seq,to=\"TSE\",tevent=seqetm(companiesSequence.seq,method=\"state\"))\n",
    "head(x)"
   ]
  },
  {
   "cell_type": "code",
   "execution_count": 15,
   "metadata": {
    "collapsed": false
   },
   "outputs": [
    {
     "data": {
      "text/html": [
       "<ol class=list-inline>\n",
       "\t<li>236</li>\n",
       "\t<li>3</li>\n",
       "</ol>\n"
      ],
      "text/latex": [
       "\\begin{enumerate*}\n",
       "\\item 236\n",
       "\\item 3\n",
       "\\end{enumerate*}\n"
      ],
      "text/markdown": [
       "1. 236\n",
       "2. 3\n",
       "\n",
       "\n"
      ],
      "text/plain": [
       "[1] 236   3"
      ]
     },
     "metadata": {},
     "output_type": "display_data"
    }
   ],
   "source": [
    "dim(x)"
   ]
  },
  {
   "cell_type": "code",
   "execution_count": 11,
   "metadata": {
    "collapsed": false
   },
   "outputs": [
    {
     "data": {
      "text/plain": [
       "  [1] 32-(B)-12-(A)             42-(A)                   \n",
       "  [3] 49-(A)                    50-(A)-4-(C)             \n",
       "  [5] 50-(A)                    41-(B)-15-(A)            \n",
       "  [7] 50-(A)                    28-(B)-6-(C)-3-(B)-6-(A) \n",
       "  [9] 32-(B)-11-(A)             52-(A)                   \n",
       " [11] 49-(A)                    44-(A)                   \n",
       " [13] 49-(B)-9-(A)              60-(A)                   \n",
       " [15] 35-(A)                    49-(A)                   \n",
       " [17] 50-(A)                    52-(A)                   \n",
       " [19] 39-(A)                    48-(A)                   \n",
       " [21] 47-(A)-8-(C)              55-(A)                   \n",
       " [23] 46-(A)                    31-(B)-13-(A)            \n",
       " [25] 47-(A)                    50-(A)                   \n",
       " [27] 50-(A)                    46-(A)                   \n",
       " [29] 36-(B)-20-(A)             41-(B)-11-(A)            \n",
       " [31] 20-(B)-25-(A)             52-(A)                   \n",
       " [33] 54-(A)-4-(C)              44-(A)                   \n",
       " [35] 45-(A)                    53-(A)                   \n",
       " [37] 52-(A)                    49-(A)                   \n",
       " [39] 27-(A)                    36-(A)-2-(C)-1-(A)       \n",
       " [41] 42-(A)                    57-(A)                   \n",
       " [43] 49-(A)                    50-(A)                   \n",
       " [45] 20-(A)-13-(C)-4-(A)       51-(C)-4-(A)             \n",
       " [47] 37-(B)-16-(A)             30-(A)                   \n",
       " [49] 41-(A)                    55-(A)                   \n",
       " [51] 43-(B)-13-(C)-1-(A)-2-(C) 44-(B)                   \n",
       " [53] 50-(A)                    54-(A)                   \n",
       " [55] 23-(B)-21-(A)-17-(C)      50-(A)                   \n",
       " [57] 41-(A)                    55-(A)                   \n",
       " [59] 46-(B)-6-(A)              54-(A)                   \n",
       " [61] 50-(B)-1-(A)              54-(A)                   \n",
       " [63] 32-(C)-5-(A)              36-(A)                   \n",
       " [65] 55-(A)                    57-(A)                   \n",
       " [67] 56-(A)                    47-(A)                   \n",
       " [69] 52-(A)                    54-(A)                   \n",
       " [71] 57-(A)                    41-(A)                   \n",
       " [73] 58-(A)                    55-(A)                   \n",
       " [75] 20-(B)-22-(A)             48-(A)                   \n",
       " [77] 54-(A)                    48-(A)                   \n",
       " [79] 50-(A)-4-(C)              43-(A)                   \n",
       " [81] 25-(B)-19-(C)-1-(B)-4-(A) 36-(C)-15-(A)            \n",
       " [83] 52-(A)                    61-(A)                   \n",
       " [85] 49-(A)                    49-(A)                   \n",
       " [87] 53-(A)                    36-(A)                   \n",
       " [89] 49-(A)                    48-(A)                   \n",
       " [91] 42-(B)-11-(A)             56-(A)                   \n",
       " [93] 35-(B)-19-(B)             41-(A)                   \n",
       " [95] 30-(A)-6-(C)-21-(A)       58-(A)                   \n",
       " [97] 45-(A)                    43-(C)-7-(A)             \n",
       " [99] 53-(A)                    47-(A)                   \n",
       "[101] 60-(A)                    58-(C)                   \n",
       "[103] 41-(A)                    61-(A)                   \n",
       "[105] 48-(B)-2-(C)-11-(A)       49-(A)                   \n",
       "[107] 54-(A)                    36-(B)-9-(C)-14-(A)      \n",
       "[109] 38-(A)-22-(B)             38-(A)                   \n",
       "[111] 56-(A)                    47-(A)                   \n",
       "[113] 57-(A)                    56-(A)                   \n",
       "[115] 36-(B)-10-(A)             45-(A)                   \n",
       "[117] 38-(A)                    19-(A)-10-(C)-30-(A)     \n",
       "[119] 44-(A)                    48-(C)-12-(A)            \n",
       "[121] 37-(C)-6-(B)-14-(A)       60-(A)                   \n",
       "[123] 44-(A)                    44-(A)                   \n",
       "[125] 54-(B)-5-(A)              56-(A)                   \n",
       "[127] 42-(A)-15-(C)             54-(A)                   \n",
       "[129] 48-(A)                    32-(A)-4-(C)             \n",
       "[131] 36-(B)-3-(A)-15-(C)-2-(A) 55-(A)                   \n",
       "[133] 44-(A)                    46-(A)                   \n",
       "[135] 51-(A)                    47-(A)                   \n",
       "[137] 22-(A)                    51-(A)                   \n",
       "[139] 29-(A)                    37-(B)-15-(A)-6-(B)      \n",
       "[141] 45-(B)-8-(A)              59-(A)                   \n",
       "[143] 47-(A)                    56-(A)                   \n",
       "[145] 48-(A)                    50-(A)                   \n",
       "[147] 52-(A)-4-(C)              55-(A)                   \n",
       "[149] 57-(A)                    47-(A)                   \n",
       "[151] 44-(A)                    53-(A)-3-(C)             \n",
       "[153] 53-(A)                    45-(A)                   \n",
       "[155] 50-(A)                    54-(A)                   \n",
       "[157] 42-(A)                    38-(A)                   \n",
       "[159] 46-(A)-1-(C)-5-(A)-4-(B)  35-(A)                   \n",
       "[161] 47-(A)                    37-(A)                   \n",
       "[163] 37-(C)-8-(B)              47-(B)-7-(A)             \n",
       "[165] 48-(A)                    46-(A)-8-(C)             \n",
       "[167] 42-(A)                    41-(A)                   \n",
       "[169] 36-(A)                   "
      ]
     },
     "metadata": {},
     "output_type": "display_data"
    }
   ],
   "source": [
    "companiesEventSequence <- seqecreate(x,use.labels=FALSE)\n",
    "companiesEventSequence\n"
   ]
  },
  {
   "cell_type": "code",
   "execution_count": null,
   "metadata": {
    "collapsed": true
   },
   "outputs": [],
   "source": []
  }
 ],
 "metadata": {
  "kernelspec": {
   "display_name": "R",
   "language": "R",
   "name": "ir"
  },
  "language_info": {
   "codemirror_mode": "r",
   "file_extension": ".r",
   "mimetype": "text/x-r-source",
   "name": "R",
   "pygments_lexer": "r",
   "version": "3.3.1"
  }
 },
 "nbformat": 4,
 "nbformat_minor": 0
}
