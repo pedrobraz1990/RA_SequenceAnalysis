{
 "cells": [
  {
   "cell_type": "markdown",
   "metadata": {},
   "source": [
    "# Sequence Analysis\n",
    "\n",
    "## I. Setup\n",
    "\n",
    "### I.1 Load Libraries\n",
    "First we have to load a few libraries:\n"
   ]
  },
  {
   "cell_type": "code",
   "execution_count": null,
   "metadata": {
    "collapsed": true
   },
   "outputs": [],
   "source": [
    "library(TraMineR)\n",
    "library(RColorBrewer)\n",
    "library(cluster)"
   ]
  },
  {
   "cell_type": "markdown",
   "metadata": {},
   "source": [
    "### I.2 Load\n",
    "Afterwards we have to load the data using:"
   ]
  },
  {
   "cell_type": "code",
   "execution_count": null,
   "metadata": {
    "collapsed": true
   },
   "outputs": [],
   "source": [
    "rawData = read.csv(\"Pedro_Review_22062015.csv\",sep=\";\") "
   ]
  },
  {
   "cell_type": "markdown",
   "metadata": {},
   "source": [
    "Note that this is the very same file you sent me. I just saved it in `.csv`\n",
    "\n",
    "The following code separates the rows of each dimension in separate variables:"
   ]
  },
  {
   "cell_type": "code",
   "execution_count": null,
   "metadata": {
    "collapsed": true
   },
   "outputs": [],
   "source": [
    "companies = rawData[rawData[,5]==\"Companies\",]\n",
    "titles = rawData[rawData[,5]==\"Titles\",]\n",
    "membership = rawData[rawData[,5]==\"Board Memberships\",]"
   ]
  },
  {
   "cell_type": "markdown",
   "metadata": {},
   "source": [
    "### I.3 Auxiliar Functions\n",
    "Also, we'll define a few auxiliar functions. \n",
    "\n",
    "Right now the variables ``companies``, ``titles`` and ``membership`` are matrices containing all data. The function ``getSequence`` cuts the qualitative data and leaves only the sequence part of the matrices.\n",
    "\n",
    "The ``trim`` function cleans the strings in the data. Probably due to errors during coding some of the data is for example \"A \" instead of \"A\", and the function ``trim`` removes those spaces\n",
    "\n",
    "The last function, called ``makeSequencePlots``, just creates the 4 basic plots we look at. Just so I don't have to rewrite it everytime.\n"
   ]
  },
  {
   "cell_type": "code",
   "execution_count": null,
   "metadata": {
    "collapsed": true
   },
   "outputs": [],
   "source": [
    "getSequence <- function(raw){\n",
    "  return(raw[,-seq(1:5)])\n",
    "}\n",
    "\n",
    "\n",
    "\n",
    "trim <- function (x) gsub(\"^\\\\s+|\\\\s+$\", \"\", x)\n",
    "    \n",
    "    \n",
    "    \n",
    "makeSequencePlots <- function(seq){\n",
    "  seqIplot(seq,sortv=\"from.start\",withlegend=TRUE,title=\"Companies - All sequences - Sort by start\")\n",
    "  \n",
    "  seqIplot(seq,sortv=\"from.end\",withlegend=TRUE,title=\"Companies - All sequences - Sort by end\")\n",
    "  \n",
    "  seqfplot(seq, withlegend = TRUE, border = NA, title=\"10 Most Frequent Sequences\")\n",
    "  \n",
    "  seqdplot(seq, withlegend = TRUE, border = NA, title=\"States Distribution Over Time\")\n",
    "  \n",
    "  seqmtplot(seq, withlegend = TRUE, title=\"Mean Time spent in each State\")\n",
    "  return(TRUE)\n",
    "}    "
   ]
  },
  {
   "cell_type": "markdown",
   "metadata": {},
   "source": [
    "## II. Sequence Analysis\n",
    "\n",
    "### II.1 Cleaning the data\n",
    "\n",
    "First step is to create a sequence-only matrix. Afterwards we make sure all the letters are in upper case and remove some data that seems to be wrongly coded. It might be worth a double check on your end. These are:\n",
    "\n",
    "* Partner\n",
    "* Consultant\n",
    "* President\n",
    "* President, COO,CEO\n",
    "* Senior Advisor\n",
    "* sr. v.p., corp. Strategy\n",
    "* President, COO\n",
    "* CHECK\n",
    "\n",
    "I just put ``Z`` on all of them.\n",
    "\n",
    "Lastly, the ``for`` loops just trim all the strings in the sequences."
   ]
  },
  {
   "cell_type": "code",
   "execution_count": null,
   "metadata": {
    "collapsed": true
   },
   "outputs": [],
   "source": [
    "\n",
    "companiesSequence <- getSequence(companies)\n",
    "\n",
    "companiesSequence[companiesSequence == \"b\"] <- \"B\"\n",
    "companiesSequence[companiesSequence == \"c\"] <- \"C\"\n",
    "companiesSequence[companiesSequence == \"Partner\"] <- \"Z\"\n",
    "companiesSequence[companiesSequence == \"Consultant\"] <- \"Z\"\n",
    "companiesSequence[companiesSequence == \"President\"] <- \"Z\"\n",
    "companiesSequence[companiesSequence == \"President, COO,CEO\"] <- \"Z\"\n",
    "companiesSequence[companiesSequence == \"Senior Advisor\"] <- \"Z\"\n",
    "companiesSequence[companiesSequence == \"sr. v.p., corp. Strategy\"] <- \"Z\"\n",
    "companiesSequence[companiesSequence == \"President, COO\"] <- \"Z\"\n",
    "companiesSequence[companiesSequence == \"CHECK\"] <- \"Z\"\n",
    "\n",
    "for (row in seq(1:dim(companiesSequence)[1])){\n",
    "  for (col in seq(1:dim(companiesSequence)[2])){\n",
    "    companiesSequence[row,col] <- trim(companiesSequence[row,col])\n",
    "  }\n",
    "}"
   ]
  },
  {
   "cell_type": "markdown",
   "metadata": {},
   "source": [
    "### II.2 Companies, Single Dimension, Asynchoronous\n",
    "\n",
    "We have to build the sequence. In this first step we'll use the simplest approach, indicating that ``Z`` are missing values and that's all. That's done in the first command.\n",
    "\n",
    "Note that the sequence is asynchoronous, meaning that it is exactly as it was coded. "
   ]
  },
  {
   "cell_type": "code",
   "execution_count": null,
   "metadata": {
    "collapsed": false
   },
   "outputs": [],
   "source": [
    "companiesSequence.seq <- seqdef(companiesSequence,NULL,missing=\"Z\")\n",
    "\n",
    "#This line is just to set the colors to the charts\n",
    "cpal(companiesSequence.seq) <- brewer.pal(3,\"Spectral\")\n",
    "\n",
    "makeSequencePlots(companiesSequence.seq)\n"
   ]
  },
  {
   "cell_type": "markdown",
   "metadata": {},
   "source": [
    "### II.3 Companies, Single Dimension, Synchoronous\n",
    "\n",
    "Using the same data we build another sequence. This time the only differente is that all the missing values in the beggining and in the end of the sequence.\n",
    "\n",
    "This implies that if a given sequence starts say in 1990 this will be considered $$\\tau = 1$$\n",
    "\n",
    "Arguably this approach makes sense, because we are not looking to observer changes in given years, all that matters to us is the path, not when it hapenned.\n",
    "\n",
    "The options ``right=\"DEL\"`` and ``left=\"DEL\"`` make those deletions.\n",
    "\n",
    "Again after creating the sequence we generate the plots."
   ]
  },
  {
   "cell_type": "code",
   "execution_count": null,
   "metadata": {
    "collapsed": true
   },
   "outputs": [],
   "source": [
    "companiesSequence.seq <- seqdef(companiesSequence,NULL,missing=\"Z\",right=\"DEL\",left=\"DEL\")\n",
    "\n",
    "#This line is just to set the colors to the charts\n",
    "cpal(companiesSequence.seq) <- brewer.pal(3,\"Spectral\")\n",
    "\n",
    "makeSequencePlots(companiesSequence.seq)"
   ]
  }
 ],
 "metadata": {
  "kernelspec": {
   "display_name": "R",
   "language": "R",
   "name": "ir"
  },
  "language_info": {
   "codemirror_mode": "r",
   "file_extension": ".r",
   "mimetype": "text/x-r-source",
   "name": "R",
   "pygments_lexer": "r",
   "version": "3.1.3"
  }
 },
 "nbformat": 4,
 "nbformat_minor": 0
}
